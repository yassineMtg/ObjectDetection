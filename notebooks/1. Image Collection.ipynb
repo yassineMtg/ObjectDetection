{
 "cells": [
  {
   "cell_type": "markdown",
   "metadata": {},
   "source": [
    "# 1. Import Dependencies"
   ]
  },
  {
   "cell_type": "code",
   "execution_count": null,
   "metadata": {},
   "outputs": [],
   "source": [
    "!pip install opencv-python"
   ]
  },
  {
   "cell_type": "code",
   "execution_count": 2,
   "metadata": {},
   "outputs": [],
   "source": [
    "# Import opencv\n",
    "import cv2 \n",
    "\n",
    "# Import uuid\n",
    "import uuid\n",
    "\n",
    "# Import Operating System\n",
    "import os\n",
    "\n",
    "# Import time\n",
    "import time"
   ]
  },
  {
   "cell_type": "markdown",
   "metadata": {},
   "source": [
    "# 2. Define Images to Collect"
   ]
  },
  {
   "cell_type": "code",
   "execution_count": 3,
   "metadata": {},
   "outputs": [],
   "source": [
    "labels = ['Happy', 'Sad']\n",
    "number_imgs = 5"
   ]
  },
  {
   "cell_type": "code",
   "execution_count": 4,
   "metadata": {},
   "outputs": [
    {
     "data": {
      "text/plain": [
       "['Happy', 'Sad']"
      ]
     },
     "execution_count": 4,
     "metadata": {},
     "output_type": "execute_result"
    }
   ],
   "source": [
    "labels"
   ]
  },
  {
   "cell_type": "markdown",
   "metadata": {},
   "source": [
    "# 3. Setup Folders "
   ]
  },
  {
   "cell_type": "code",
   "execution_count": 5,
   "metadata": {},
   "outputs": [],
   "source": [
    "IMAGES_PATH = os.path.join('Tensorflow', 'workspace', 'images', 'collectedimages')"
   ]
  },
  {
   "cell_type": "code",
   "execution_count": 6,
   "metadata": {},
   "outputs": [],
   "source": [
    "if not os.path.exists(IMAGES_PATH):\n",
    "    if os.name == 'posix':\n",
    "        !mkdir -p {IMAGES_PATH}\n",
    "    if os.name == 'nt':\n",
    "         !mkdir {IMAGES_PATH}\n",
    "for label in labels:\n",
    "    path = os.path.join(IMAGES_PATH, label)\n",
    "    if not os.path.exists(path):\n",
    "        !mkdir {path}"
   ]
  },
  {
   "cell_type": "code",
   "execution_count": 7,
   "metadata": {},
   "outputs": [
    {
     "data": {
      "text/plain": [
       "'nt'"
      ]
     },
     "execution_count": 7,
     "metadata": {},
     "output_type": "execute_result"
    }
   ],
   "source": [
    "os.name"
   ]
  },
  {
   "cell_type": "markdown",
   "metadata": {},
   "source": [
    "# 4. Capture Images"
   ]
  },
  {
   "cell_type": "code",
   "execution_count": 8,
   "metadata": {},
   "outputs": [
    {
     "data": {
      "text/plain": [
       "'Tensorflow\\\\workspace\\\\images\\\\collectedimages'"
      ]
     },
     "execution_count": 8,
     "metadata": {},
     "output_type": "execute_result"
    }
   ],
   "source": [
    "IMAGES_PATH"
   ]
  },
  {
   "cell_type": "code",
   "execution_count": 9,
   "metadata": {},
   "outputs": [
    {
     "name": "stdout",
     "output_type": "stream",
     "text": [
      "Collecting images for Happy\n",
      "Collecting image 0\n",
      "Collecting image 1\n",
      "Collecting image 2\n",
      "Collecting image 3\n",
      "Collecting image 4\n",
      "Collecting images for Sad\n",
      "Collecting image 0\n",
      "Collecting image 1\n",
      "Collecting image 2\n",
      "Collecting image 3\n",
      "Collecting image 4\n"
     ]
    }
   ],
   "source": [
    "for label in labels:\n",
    "    cap = cv2.VideoCapture(0)\n",
    "    print('Collecting images for {}'.format(label))\n",
    "    time.sleep(5)\n",
    "    for imgnum in range(number_imgs):\n",
    "        print('Collecting image {}'.format(imgnum))\n",
    "        ret, frame = cap.read()\n",
    "        imgname = os.path.join(IMAGES_PATH,label,label+'.'+'{}.jpg'.format(str(uuid.uuid1())))\n",
    "        cv2.imwrite(imgname, frame)\n",
    "        cv2.imshow('frame', frame)\n",
    "        time.sleep(2)\n",
    "        if cv2.waitKey(1) & 0xFF == ord('q'):\n",
    "            break\n",
    "cap.release()\n",
    "cv2.destroyAllWindows()"
   ]
  },
  {
   "cell_type": "markdown",
   "metadata": {},
   "source": [
    "# 5. Image Labelling"
   ]
  },
  {
   "cell_type": "code",
   "execution_count": null,
   "metadata": {},
   "outputs": [],
   "source": [
    "!pip install --upgrade pyqt5 lxml"
   ]
  },
  {
   "cell_type": "code",
   "execution_count": null,
   "metadata": {},
   "outputs": [],
   "source": [
    "!pip list"
   ]
  },
  {
   "cell_type": "code",
   "execution_count": 10,
   "metadata": {},
   "outputs": [],
   "source": [
    "LABELIMG_PATH = os.path.join('Tensorflow', 'labelimg')"
   ]
  },
  {
   "cell_type": "code",
   "execution_count": 11,
   "metadata": {},
   "outputs": [],
   "source": [
    "if not os.path.exists(LABELIMG_PATH):\n",
    "    !mkdir {LABELIMG_PATH}\n",
    "    !git clone https://github.com/tzutalin/labelImg {LABELIMG_PATH}"
   ]
  },
  {
   "cell_type": "code",
   "execution_count": 12,
   "metadata": {},
   "outputs": [],
   "source": [
    "if os.name == 'posix':\n",
    "    !make qt5py3\n",
    "if os.name =='nt':\n",
    "    !cd {LABELIMG_PATH} && pyrcc5 -o libs/resources.py resources.qrc"
   ]
  },
  {
   "cell_type": "code",
   "execution_count": 13,
   "metadata": {},
   "outputs": [
    {
     "name": "stdout",
     "output_type": "stream",
     "text": [
      "Image:D:\\AI project\\Face-Sentiment\\TFODCourse\\Tensorflow\\workspace\\images\\collectedimages\\Happy\\Happy.c9f0e4a5-0825-11ef-9c55-00155d027cee.jpg -> Annotation:D:/AI project/Face-Sentiment/TFODCourse/Tensorflow/workspace/images/collectedimages/Happy\\Happy.c9f0e4a5-0825-11ef-9c55-00155d027cee.xml\n",
      "Image:D:\\AI project\\Face-Sentiment\\TFODCourse\\Tensorflow\\workspace\\images\\collectedimages\\Happy\\Happy.c89ea899-0825-11ef-9f3f-00155d027cee.jpg -> Annotation:D:/AI project/Face-Sentiment/TFODCourse/Tensorflow/workspace/images/collectedimages/Happy\\Happy.c89ea899-0825-11ef-9f3f-00155d027cee.xml\n",
      "Image:D:\\AI project\\Face-Sentiment\\TFODCourse\\Tensorflow\\workspace\\images\\collectedimages\\Happy\\Happy.cb36054d-0825-11ef-8d16-00155d027cee.jpg -> Annotation:D:/AI project/Face-Sentiment/TFODCourse/Tensorflow/workspace/images/collectedimages/Happy\\Happy.cb36054d-0825-11ef-8d16-00155d027cee.xml\n",
      "Image:D:\\AI project\\Face-Sentiment\\TFODCourse\\Tensorflow\\workspace\\images\\collectedimages\\Happy\\Happy.cc6c55e9-0825-11ef-a0e0-00155d027cee.jpg -> Annotation:D:/AI project/Face-Sentiment/TFODCourse/Tensorflow/workspace/images/collectedimages/Happy\\Happy.cc6c55e9-0825-11ef-a0e0-00155d027cee.xml\n",
      "Image:D:\\AI project\\Face-Sentiment\\TFODCourse\\Tensorflow\\workspace\\images\\collectedimages\\Happy\\Happy.cda0a32c-0825-11ef-90bb-00155d027cee.jpg -> Annotation:D:/AI project/Face-Sentiment/TFODCourse/Tensorflow/workspace/images/collectedimages/Happy\\Happy.cda0a32c-0825-11ef-90bb-00155d027cee.xml\n",
      "Image:D:\\AI project\\Face-Sentiment\\TFODCourse\\Tensorflow\\workspace\\images\\collectedimages\\Sad\\Sad.d8afa1cd-0825-11ef-ade5-00155d027cee.jpg -> Annotation:D:/AI project/Face-Sentiment/TFODCourse/Tensorflow/workspace/images/collectedimages/Sad\\Sad.d8afa1cd-0825-11ef-ade5-00155d027cee.xml\n",
      "Image:D:\\AI project\\Face-Sentiment\\TFODCourse\\Tensorflow\\workspace\\images\\collectedimages\\Sad\\Sad.d9e631ec-0825-11ef-b82b-00155d027cee.jpg -> Annotation:D:/AI project/Face-Sentiment/TFODCourse/Tensorflow/workspace/images/collectedimages/Sad\\Sad.d9e631ec-0825-11ef-b82b-00155d027cee.xml\n",
      "Image:D:\\AI project\\Face-Sentiment\\TFODCourse\\Tensorflow\\workspace\\images\\collectedimages\\Sad\\Sad.d778c96c-0825-11ef-ab42-00155d027cee.jpg -> Annotation:D:/AI project/Face-Sentiment/TFODCourse/Tensorflow/workspace/images/collectedimages/Sad\\Sad.d778c96c-0825-11ef-ab42-00155d027cee.xml\n",
      "Image:D:\\AI project\\Face-Sentiment\\TFODCourse\\Tensorflow\\workspace\\images\\collectedimages\\Sad\\Sad.d6331806-0825-11ef-9784-00155d027cee.jpg -> Annotation:D:/AI project/Face-Sentiment/TFODCourse/Tensorflow/workspace/images/collectedimages/Sad\\Sad.d6331806-0825-11ef-9784-00155d027cee.xml\n",
      "Image:D:\\AI project\\Face-Sentiment\\TFODCourse\\Tensorflow\\workspace\\images\\collectedimages\\Sad\\Sad.db1e5de6-0825-11ef-96ec-00155d027cee.jpg -> Annotation:D:/AI project/Face-Sentiment/TFODCourse/Tensorflow/workspace/images/collectedimages/Sad\\Sad.db1e5de6-0825-11ef-96ec-00155d027cee.xml\n"
     ]
    }
   ],
   "source": [
    "!cd {LABELIMG_PATH} && python labelImg.py"
   ]
  },
  {
   "cell_type": "markdown",
   "metadata": {},
   "source": [
    "# 6. Move them into a Training and Testing Partition"
   ]
  },
  {
   "cell_type": "markdown",
   "metadata": {},
   "source": [
    "# OPTIONAL - 7. Compress them for Colab Training"
   ]
  },
  {
   "cell_type": "code",
   "execution_count": null,
   "metadata": {},
   "outputs": [],
   "source": [
    "TRAIN_PATH = os.path.join('Tensorflow', 'workspace', 'images', 'train')\n",
    "TEST_PATH = os.path.join('Tensorflow', 'workspace', 'images', 'test')\n",
    "ARCHIVE_PATH = os.path.join('Tensorflow', 'workspace', 'images', 'archive.tar.gz')"
   ]
  },
  {
   "cell_type": "code",
   "execution_count": null,
   "metadata": {},
   "outputs": [],
   "source": [
    "!tar -czf {ARCHIVE_PATH} {TRAIN_PATH} {TEST_PATH}"
   ]
  },
  {
   "cell_type": "code",
   "execution_count": null,
   "metadata": {},
   "outputs": [],
   "source": []
  }
 ],
 "metadata": {
  "kernelspec": {
   "display_name": "tfodj",
   "language": "python",
   "name": "tfodj"
  },
  "language_info": {
   "codemirror_mode": {
    "name": "ipython",
    "version": 3
   },
   "file_extension": ".py",
   "mimetype": "text/x-python",
   "name": "python",
   "nbconvert_exporter": "python",
   "pygments_lexer": "ipython3",
   "version": "3.8.10"
  }
 },
 "nbformat": 4,
 "nbformat_minor": 4
}
